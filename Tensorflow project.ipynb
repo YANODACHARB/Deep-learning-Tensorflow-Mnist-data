{
 "cells": [
  {
   "cell_type": "code",
   "execution_count": 19,
   "id": "2d98b51f",
   "metadata": {},
   "outputs": [],
   "source": [
    "import matplotlib.pyplot as plt\n",
    "import tensorflow as tf\n",
    "import numpy as np\n",
    "import pandas as pd\n",
    "import sys"
   ]
  },
  {
   "cell_type": "code",
   "execution_count": 20,
   "id": "74259b17",
   "metadata": {},
   "outputs": [],
   "source": [
    "assert hasattr(tf, \"function\")#tensorflow version 2.0"
   ]
  },
  {
   "cell_type": "code",
   "execution_count": 29,
   "id": "a907b3ca",
   "metadata": {},
   "outputs": [
    {
     "name": "stdout",
     "output_type": "stream",
     "text": [
      "Requirement already satisfied: scikit-learn in c:\\users\\ych\\anaconda3\\lib\\site-packages (1.1.1)Note: you may need to restart the kernel to use updated packages.\n",
      "Requirement already satisfied: threadpoolctl>=2.0.0 in c:\\users\\ych\\anaconda3\\lib\\site-packages (from scikit-learn) (2.2.0)\n",
      "Requirement already satisfied: joblib>=1.0.0 in c:\\users\\ych\\anaconda3\\lib\\site-packages (from scikit-learn) (1.1.0)\n",
      "Requirement already satisfied: numpy>=1.17.3 in c:\\users\\ych\\anaconda3\\lib\\site-packages (from scikit-learn) (1.20.3)\n",
      "Requirement already satisfied: scipy>=1.3.2 in c:\\users\\ych\\anaconda3\\lib\\site-packages (from scikit-learn) (1.7.1)\n",
      "\n"
     ]
    }
   ],
   "source": [
    "pip install scikit-learn # pour pouvoir avoir acces a StandardScalar (Normalisation)"
   ]
  },
  {
   "cell_type": "code",
   "execution_count": 21,
   "id": "42721a40",
   "metadata": {},
   "outputs": [],
   "source": [
    "from sklearn.preprocessing import StandardScaler #normalisation  "
   ]
  },
  {
   "cell_type": "code",
   "execution_count": 22,
   "id": "77d0a9bf",
   "metadata": {},
   "outputs": [
    {
     "name": "stdout",
     "output_type": "stream",
     "text": [
      "73.00877385204082\n",
      "90.2745808471392\n",
      "-1.0476880134421886e-18\n",
      "1.0000000000000007\n",
      "(8000, 784) (8000,)\n",
      "(2000, 784) (2000,)\n"
     ]
    }
   ],
   "source": [
    "#module sklearn pour la partie train/validation/test\n",
    "from sklearn.model_selection import train_test_split\n",
    "\n",
    "#Data load\n",
    "fashion_mnist= tf.keras.datasets.fashion_mnist\n",
    "(images, targets), (_,_)= fashion_mnist.load_data()\n",
    "\n",
    "images = images[:10000] #Choix de 10000 images et targets\n",
    "targets = targets[:10000]\n",
    "\n",
    "print(images.mean()) # la moy est de 73 avant la normalisation\n",
    "print(images.std()) #l'eccart type est énorme = 90 avant la normalisation\n",
    "\n",
    "\n",
    "# Normalisation \n",
    "images=images.reshape(-1, 784) #Flatten images dANS LE SENS DE LA NORMALISATION)\n",
    "images= images.astype(float)\n",
    "\n",
    "scaler= StandardScaler() # Use StandardScaler pour la normalisation des données d'entrée\n",
    "images= scaler.fit_transform(images) #Transformer l'image \n",
    "\n",
    "print(images.mean()) # la moyenne est proche de 0 apres la normalisation\n",
    "print(images.std()) # l'ecart type est de 1 apres la normalisation \n",
    "\n",
    "#split data \n",
    "images_train, images_test, targets_train, targets_test=train_test_split(images, targets, test_size=0.2, random_state=1)\n",
    "\n",
    "print(images_train.shape, targets_train.shape)\n",
    "print(images_test.shape,targets_test.shape)\n",
    "#print(images.shape)\n",
    "#print(targets.shape)\n",
    "#print(images[0]) # nos valeurs apres normalisation toute proche de 0 = cela va rendre le processus rapide pour converger vers de bonnes solutions\n",
    "#print(images[0])\n",
    "#print(targets[0]) "
   ]
  },
  {
   "cell_type": "code",
   "execution_count": 23,
   "id": "0e90e61d",
   "metadata": {},
   "outputs": [],
   "source": [
    "targets_names= [\"Top\", \"Trouser\", \"Pull\", \"Dress\", \"Coat\", \"Sandal\", \"Shirt\", \"Sneaker\", \"Bag\", \"Boot\"]\n",
    "\n",
    "\n",
    "#plt.imshow(images[15], cmap=\"binary\")\n",
    "#plt.title(targets_names[targets[15]])\n",
    "#plt.show()"
   ]
  },
  {
   "cell_type": "code",
   "execution_count": 31,
   "id": "6a3f9c5f",
   "metadata": {},
   "outputs": [
    {
     "name": "stdout",
     "output_type": "stream",
     "text": [
      "1/1 [==============================] - 0s 130ms/step\n",
      "[[0.06605202 0.04312359 0.00968581 0.14316463 0.10187652 0.04952341\n",
      "  0.37996706 0.01720961 0.01620292 0.17319438]] [9]\n"
     ]
    }
   ],
   "source": [
    "#cretate a model --> Layer of 256 Neuron + another layer of 128 neuron and finally an output of 10 neurons because we have 10 possible outputs\n",
    "#Flatten the image (Créer model)\n",
    "#First thing we create a sequential model to be able to add stuff on it, then we add our image (Flatten) in shape 28,28\n",
    "\n",
    " \n",
    "#Flatten\n",
    "model= tf.keras.models.Sequential()\n",
    "#model.add(tf.keras.layers.Flatten(input_shape=[28, 28])) #transformer l'image en image plate (Pas besoin quand on fait la normalisation)\n",
    "\n",
    "#Add layers \n",
    "model.add(tf.keras.layers.Dense(256, activation = \"relu\")) #Dense = un calk 256 fois lde l'image applatie precedente\n",
    "model.add(tf.keras.layers.Dense(128, activation = \"relu\")) #Seconde hidden layer of 128 neuron (#Connecté à la couche d'avant grace a SEQUENTIAL)\n",
    "model.add(tf.keras.layers.Dense(10, activation=\"softmax\")) #Neurones de sortie\n",
    "\n",
    "model_outout = model.predict(images[0:1])\n",
    "print(model_outout, targets[0:1])"
   ]
  },
  {
   "cell_type": "code",
   "execution_count": 25,
   "id": "aa55f0c9",
   "metadata": {
    "scrolled": true
   },
   "outputs": [
    {
     "name": "stdout",
     "output_type": "stream",
     "text": [
      "Model: \"sequential_2\"\n",
      "_________________________________________________________________\n",
      " Layer (type)                Output Shape              Param #   \n",
      "=================================================================\n",
      " dense_6 (Dense)             (None, 256)               200960    \n",
      "                                                                 \n",
      " dense_7 (Dense)             (None, 128)               32896     \n",
      "                                                                 \n",
      " dense_8 (Dense)             (None, 10)                1290      \n",
      "                                                                 \n",
      "=================================================================\n",
      "Total params: 235,146\n",
      "Trainable params: 235,146\n",
      "Non-trainable params: 0\n",
      "_________________________________________________________________\n"
     ]
    }
   ],
   "source": [
    "#model summary\n",
    "model.summary()"
   ]
  },
  {
   "cell_type": "code",
   "execution_count": 32,
   "id": "53119d67",
   "metadata": {},
   "outputs": [],
   "source": [
    "#Compile the error\n",
    "model.compile(\n",
    "            loss=\"sparse_categorical_crossentropy\", #fonction d'erreur\n",
    "            optimizer=\"sgd\", #optimizer utilisant descent gradient\n",
    "            metrics=[\"accuracy\"] #a quel point il a fait la prediction/ par ex s'ila fait 60 bonne images sur 100--> l'accuracy =60%\n",
    ")"
   ]
  },
  {
   "cell_type": "code",
   "execution_count": 33,
   "id": "ab2847e8",
   "metadata": {},
   "outputs": [
    {
     "name": "stdout",
     "output_type": "stream",
     "text": [
      "Epoch 1/10\n",
      "200/200 [==============================] - 2s 6ms/step - loss: 0.8990 - accuracy: 0.7044 - val_loss: 0.6407 - val_accuracy: 0.7713\n",
      "Epoch 2/10\n",
      "200/200 [==============================] - 2s 8ms/step - loss: 0.5454 - accuracy: 0.8128 - val_loss: 0.5616 - val_accuracy: 0.7919\n",
      "Epoch 3/10\n",
      "200/200 [==============================] - 1s 6ms/step - loss: 0.4632 - accuracy: 0.8411 - val_loss: 0.5136 - val_accuracy: 0.8169\n",
      "Epoch 4/10\n",
      "200/200 [==============================] - 1s 5ms/step - loss: 0.4144 - accuracy: 0.8561 - val_loss: 0.4964 - val_accuracy: 0.8213\n",
      "Epoch 5/10\n",
      "200/200 [==============================] - 1s 5ms/step - loss: 0.3782 - accuracy: 0.8711 - val_loss: 0.4823 - val_accuracy: 0.8338\n",
      "Epoch 6/10\n",
      "200/200 [==============================] - 1s 4ms/step - loss: 0.3503 - accuracy: 0.8809 - val_loss: 0.4654 - val_accuracy: 0.8344\n",
      "Epoch 7/10\n",
      "200/200 [==============================] - 1s 6ms/step - loss: 0.3270 - accuracy: 0.8880 - val_loss: 0.4654 - val_accuracy: 0.8356\n",
      "Epoch 8/10\n",
      "200/200 [==============================] - 1s 6ms/step - loss: 0.3051 - accuracy: 0.8942 - val_loss: 0.4607 - val_accuracy: 0.8356\n",
      "Epoch 9/10\n",
      "200/200 [==============================] - 1s 5ms/step - loss: 0.2877 - accuracy: 0.9009 - val_loss: 0.4479 - val_accuracy: 0.8388\n",
      "Epoch 10/10\n",
      "200/200 [==============================] - 1s 5ms/step - loss: 0.2712 - accuracy: 0.9130 - val_loss: 0.4444 - val_accuracy: 0.8413\n"
     ]
    }
   ],
   "source": [
    "#Train the model (Faire un fit=lancer l'apprentissage= on va donner au model nos images avec les targets et les erreurs)\n",
    "history= model.fit(images_train, targets_train, epochs=10, validation_split=0.2) #on veut le faire 10 fois le training"
   ]
  },
  {
   "cell_type": "code",
   "execution_count": 34,
   "id": "fed84af2",
   "metadata": {},
   "outputs": [
    {
     "name": "stdout",
     "output_type": "stream",
     "text": [
      "{'loss': [0.8989699482917786, 0.5454461574554443, 0.4631953835487366, 0.4144149124622345, 0.37816759943962097, 0.35033661127090454, 0.32702362537384033, 0.30511370301246643, 0.28774887323379517, 0.2711850106716156], 'accuracy': [0.7043750286102295, 0.8128125071525574, 0.8410937786102295, 0.8560937643051147, 0.87109375, 0.8809375166893005, 0.8879687786102295, 0.8942187428474426, 0.9009374976158142, 0.9129687547683716], 'val_loss': [0.640704333782196, 0.5616298913955688, 0.5136411786079407, 0.4963534474372864, 0.48225048184394836, 0.4653688371181488, 0.46536388993263245, 0.46072426438331604, 0.44794923067092896, 0.44444480538368225], 'val_accuracy': [0.7712500095367432, 0.7918750047683716, 0.8168749809265137, 0.8212500214576721, 0.8337500095367432, 0.8343750238418579, 0.8356249928474426, 0.8356249928474426, 0.8387500047683716, 0.8412500023841858]}\n"
     ]
    }
   ],
   "source": [
    "print(history.history)"
   ]
  },
  {
   "cell_type": "code",
   "execution_count": 36,
   "id": "a8308de0",
   "metadata": {},
   "outputs": [
    {
     "data": {
      "image/png": "[encoded data removed]",
      "text/plain": [
       "<Figure size 432x288 with 1 Axes>"
      ]
     },
     "metadata": {
      "needs_background": "light"
     },
     "output_type": "display_data"
    },
    {
     "data": {
      "image/png": "[encoded data removed]",
      "text/plain": [
       "<Figure size 432x288 with 1 Axes>"
      ]
     },
     "metadata": {
      "needs_background": "light"
     },
     "output_type": "display_data"
    }
   ],
   "source": [
    "loss_curve = history.history[\"loss\"]\n",
    "accuracy_curve = history.history[\"accuracy\"]\n",
    "\n",
    "loss_val_curve=history.history[\"val_loss\"]\n",
    "acc_val_curve=history.history[\"val_accuracy\"]\n",
    "\n",
    "plt.plot(loss_curve, label=\"Train\")\n",
    "plt.plot(loss_val_curve, label=\"Val\")\n",
    "plt.legend(loc=\"upper left\")\n",
    "plt.title(\"loss\")\n",
    "plt.show()\n",
    "\n",
    "plt.plot(accuracy_curve, label=\"Train\")\n",
    "plt.plot(acc_val_curve, label=\"val\")\n",
    "plt.legend(loc=\"upper left\")\n",
    "plt.title(\"accuracy\")\n",
    "plt.show()"
   ]
  },
  {
   "cell_type": "code",
   "execution_count": 41,
   "id": "6785c189",
   "metadata": {},
   "outputs": [],
   "source": [
    "#sauvegarde \n",
    "model.save('DL_Tensorflow.h5')\n",
    "#install h5py in anaconda prompt \n",
    "load"
   ]
  },
  {
   "cell_type": "code",
   "execution_count": 44,
   "id": "f05c7bf9",
   "metadata": {},
   "outputs": [
    {
     "ename": "SyntaxError",
     "evalue": "invalid syntax (Temp/ipykernel_7948/1218567846.py, line 1)",
     "output_type": "error",
     "traceback": [
      "\u001b[1;36m  File \u001b[1;32m\"C:\\Users\\YCH\\AppData\\Local\\Temp/ipykernel_7948/1218567846.py\"\u001b[1;36m, line \u001b[1;32m1\u001b[0m\n\u001b[1;33m    echo \"# Deep-learning-Tensorflow-Mnist-data\" >> README.md\u001b[0m\n\u001b[1;37m         ^\u001b[0m\n\u001b[1;31mSyntaxError\u001b[0m\u001b[1;31m:\u001b[0m invalid syntax\n"
     ]
    }
   ],
   "source": []
  }
 ],
 "metadata": {
  "kernelspec": {
   "display_name": "Python 3 (ipykernel)",
   "language": "python",
   "name": "python3"
  },
  "language_info": {
   "codemirror_mode": {
    "name": "ipython",
    "version": 3
   },
   "file_extension": ".py",
   "mimetype": "text/x-python",
   "name": "python",
   "nbconvert_exporter": "python",
   "pygments_lexer": "ipython3",
   "version": "3.9.7"
  }
 },
 "nbformat": 4,
 "nbformat_minor": 5
}
